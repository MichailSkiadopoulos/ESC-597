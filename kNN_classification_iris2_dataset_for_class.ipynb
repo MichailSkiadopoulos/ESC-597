{
  "nbformat": 4,
  "nbformat_minor": 0,
  "metadata": {
    "colab": {
      "provenance": []
    },
    "kernelspec": {
      "name": "python3",
      "display_name": "Python 3"
    },
    "language_info": {
      "name": "python"
    }
  },
  "cells": [
    {
      "cell_type": "markdown",
      "source": [
        "IMPORT LIBRARIES"
      ],
      "metadata": {
        "id": "dJk_LtyZMdyc"
      }
    },
    {
      "cell_type": "code",
      "execution_count": 1,
      "metadata": {
        "id": "BWDy2y7LMWU0"
      },
      "outputs": [],
      "source": [
        "import numpy as np\n",
        "import matplotlib.pyplot as plt\n",
        "from collections import Counter\n",
        "from sklearn.preprocessing import MinMaxScaler\n",
        "from sklearn.model_selection import train_test_split\n",
        "from sklearn.metrics import confusion_matrix, ConfusionMatrixDisplay\n",
        "from google.colab import drive\n",
        "from sklearn.model_selection import KFold"
      ]
    },
    {
      "cell_type": "markdown",
      "source": [
        "CREATE kNN CLASS"
      ],
      "metadata": {
        "id": "qnpcAJb_MjIP"
      }
    },
    {
      "cell_type": "code",
      "source": [
        "def euclideian(x1, x2):\n",
        "    #calculate the euclideian distance between different observations\n",
        "    distance = np.sqrt(np.sum((x1 - x2) ** 2))\n",
        "    return distance\n",
        "\n",
        "class KNN:\n",
        "    def __init__(self, k):\n",
        "        #Set the number of neighbours\n",
        "        self.k = k\n",
        "    \n",
        "    def fit(self, X_train, y_train):\n",
        "        #fit the classifier by loading the labeled training data\n",
        "        self.X_train = X_train\n",
        "        self.y_train = y_train\n",
        "    \n",
        "    def predict(self, X):\n",
        "        #predict the class of testing data x using the method _predict\n",
        "        predictions = [self._predict(x) for x in X]\n",
        "\n",
        "        return predictions\n",
        "    \n",
        "    def _predict(self, x):\n",
        "        #compute the euclideian distance between testing data and training data\n",
        "        distances = [euclideian(x, x_train) for x_train in self.X_train]\n",
        "        \n",
        "        #find the first k indices of the training points \n",
        "        #that are the closest to the testing point\n",
        "        k_indices = np.argsort(distances)[:self.k]\n",
        "\n",
        "        #store the labels of the k closest training points\n",
        "        k_nearest_labels = [self.y_train[i] for i  in k_indices]\n",
        "        \n",
        "        #choose as predicted label the most common label \n",
        "        #out of the k closest training points\n",
        "        most_common = Counter(k_nearest_labels).most_common()[0][0]\n",
        "        return most_common"
      ],
      "metadata": {
        "id": "WEMaNCAYMgl7"
      },
      "execution_count": 2,
      "outputs": []
    },
    {
      "cell_type": "markdown",
      "source": [
        "LOAD DRIVE"
      ],
      "metadata": {
        "id": "-_ZwEkNUNitO"
      }
    },
    {
      "cell_type": "code",
      "source": [
        "drive.mount('/content/drive/')"
      ],
      "metadata": {
        "colab": {
          "base_uri": "https://localhost:8080/"
        },
        "id": "X7x9ZPfkNj1W",
        "outputId": "28eaf3cb-7885-4e0f-fcaa-afe133bfe877"
      },
      "execution_count": 3,
      "outputs": [
        {
          "output_type": "stream",
          "name": "stdout",
          "text": [
            "Mounted at /content/drive/\n"
          ]
        }
      ]
    },
    {
      "cell_type": "markdown",
      "source": [
        "LOAD DATA"
      ],
      "metadata": {
        "id": "ERkQcIXYMsI_"
      }
    },
    {
      "cell_type": "code",
      "source": [
        "path = '/content/drive/My Drive/Colab Notebooks/ESC597/Clustering/'\n",
        "\n",
        "data = np.loadtxt('{}data_iris2.txt'.format(path))\n",
        "X = data\n",
        "info = np.loadtxt('{}info_iris2.txt'.format(path))\n",
        "y = info\n",
        "plt.figure(figsize = (9, 9))\n",
        "plt.scatter(X[:,0], X[:,1], color = 'blue', s = 75)\n",
        "plt.tick_params(axis='x', which='major', labelsize=19)\n",
        "plt.tick_params(axis='y', which='major', labelsize=19)\n",
        "plt.xlabel('PC1', labelpad = 6, fontsize = 22)\n",
        "plt.ylabel('PC2', labelpad = 6, fontsize = 22)\n",
        "plt.savefig('data.jpg', bbox = 'tight', dpi = 400)"
      ],
      "metadata": {
        "colab": {
          "base_uri": "https://localhost:8080/",
          "height": 607
        },
        "id": "9Jalzu9GMr4v",
        "outputId": "8fca2af5-3201-491e-931f-94c1995d28a6"
      },
      "execution_count": 4,
      "outputs": [
        {
          "output_type": "stream",
          "name": "stderr",
          "text": [
            "<ipython-input-4-5f82c8fbde71>:13: MatplotlibDeprecationWarning: savefig() got unexpected keyword argument \"bbox\" which is no longer supported as of 3.3 and will become an error in 3.6\n",
            "  plt.savefig('data.jpg', bbox = 'tight', dpi = 400)\n"
          ]
        },
        {
          "output_type": "display_data",
          "data": {
            "text/plain": [
              "<Figure size 648x648 with 1 Axes>"
            ],
            "image/png": "[encoded data removed]"
          },
          "metadata": {
            "needs_background": "light"
          }
        }
      ]
    },
    {
      "cell_type": "markdown",
      "source": [
        "CREATE TRAIN,VALIDATION AND TEST DATASETS"
      ],
      "metadata": {
        "id": "4uv6aJu9MxRz"
      }
    },
    {
      "cell_type": "code",
      "source": [
        "seed = 1234 #Define random seed for the shuffling of data\n",
        "test_size = 0.2 #Define the percentage of testing data\n",
        "X_train, X_test, y_train, y_test = train_test_split(X, y, test_size = test_size, random_state = seed, shuffle=True)"
      ],
      "metadata": {
        "id": "PIuC2hf4M43T"
      },
      "execution_count": 5,
      "outputs": []
    },
    {
      "cell_type": "markdown",
      "source": [
        "SCALE THE DATA"
      ],
      "metadata": {
        "id": "g9PnQXDIvfgb"
      }
    },
    {
      "cell_type": "code",
      "source": [
        "scaler = MinMaxScaler((-1, 1))\n",
        "\n",
        "X_train = scaler.fit_transform(X_train)\n",
        "X_test = scaler.transform(X_test)"
      ],
      "metadata": {
        "id": "3OYALdLMvnve"
      },
      "execution_count": 6,
      "outputs": []
    },
    {
      "cell_type": "markdown",
      "source": [
        "APPLY CROSS VALIDATION TO FIND OPTIMAL VALUE OF k"
      ],
      "metadata": {
        "id": "WJ_LLrCjRbMd"
      }
    },
    {
      "cell_type": "code",
      "source": [
        "#Define a range for the number of K-neighbours\n",
        "k_range = np.linspace(1, 39, int((39+1) / 2), dtype = 'int')\n",
        "\n",
        "#Define the k-fold object to split the training dataset\n",
        "kf = KFold(n_splits=10)\n",
        "\n",
        "#Apply the spliting to our data and get an interable object that contains\n",
        "#the indices of the respective training and validation set \n",
        "#in the form (train_index, val_index)\n",
        "total_acc = []\n",
        "for k in k_range:\n",
        "    acc = 0\n",
        "    for i, (train_index, val_index) in enumerate(kf.split(X_train)):\n",
        "        #initilialize the classifier by providing the number of K-neighbours\n",
        "        classifier = KNN(k)\n",
        "\n",
        "        #fit the training data in the classifier\n",
        "        classifier.fit(X_train[train_index], y_train[train_index])\n",
        "\n",
        "        #complete the code\n",
        "        \n",
        "    \n",
        "    total_acc.append(acc / (i+1))\n",
        "\n",
        "plt.plot(k_range, total_acc, 'o-')\n",
        "plt.xlabel('k value')\n",
        "plt.ylabel('Accuracy (%')\n",
        "plt.savefig('Cross-validation plot.jpg', dpi=400)\n"
      ],
      "metadata": {
        "colab": {
          "base_uri": "https://localhost:8080/",
          "height": 279
        },
        "id": "Ti1Facz1Ra6p",
        "outputId": "32be5ed9-2cd9-48db-b1a7-e7c2dd214de1"
      },
      "execution_count": 7,
      "outputs": [
        {
          "output_type": "display_data",
          "data": {
            "text/plain": [
              "<Figure size 432x288 with 1 Axes>"
            ],
            "image/png": "[encoded data removed]"
          },
          "metadata": {
            "needs_background": "light"
          }
        }
      ]
    },
    {
      "cell_type": "markdown",
      "source": [
        "INITIALIZE kNN CLASSIFIER"
      ],
      "metadata": {
        "id": "54OIeXiVM6-r"
      }
    },
    {
      "cell_type": "code",
      "source": [
        "k = 5\n",
        "classifier = KNN(k)\n",
        "classifier.fit(X_train, y_train)"
      ],
      "metadata": {
        "id": "W1jFKVthM7N_"
      },
      "execution_count": 8,
      "outputs": []
    },
    {
      "cell_type": "markdown",
      "source": [
        "MAKE PREDICTIONS"
      ],
      "metadata": {
        "id": "hti9G0LsNULh"
      }
    },
    {
      "cell_type": "code",
      "source": [],
      "metadata": {
        "id": "1SodIvTDNWc5"
      },
      "execution_count": 8,
      "outputs": []
    },
    {
      "cell_type": "markdown",
      "source": [
        "CALCULATE ACCURACY"
      ],
      "metadata": {
        "id": "zSkJct7iNbwN"
      }
    },
    {
      "cell_type": "code",
      "source": [],
      "metadata": {
        "id": "aoydroU0Na39"
      },
      "execution_count": 8,
      "outputs": []
    },
    {
      "cell_type": "markdown",
      "source": [
        "CREATE CONFUSION MATRIX"
      ],
      "metadata": {
        "id": "Y1BMKzDiPAwG"
      }
    },
    {
      "cell_type": "code",
      "source": [],
      "metadata": {
        "id": "zbIHOa2oPAHG"
      },
      "execution_count": 8,
      "outputs": []
    }
  ]
}